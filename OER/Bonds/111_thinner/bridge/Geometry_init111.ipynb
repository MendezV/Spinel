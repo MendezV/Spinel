{
 "cells": [
  {
   "cell_type": "code",
   "execution_count": 1,
   "metadata": {},
   "outputs": [
    {
     "name": "stdout",
     "output_type": "stream",
     "text": [
      "Populating the interactive namespace from numpy and matplotlib\n"
     ]
    }
   ],
   "source": [
    "%pylab inline"
   ]
  },
  {
   "cell_type": "markdown",
   "metadata": {},
   "source": [
    "# Initializing molecules"
   ]
  },
  {
   "cell_type": "markdown",
   "metadata": {},
   "source": [
    "## Methanediol"
   ]
  },
  {
   "cell_type": "code",
   "execution_count": 2,
   "metadata": {},
   "outputs": [],
   "source": [
    "Ionpos_Methanediol_ang_nc=[[ 1.35170 ,  -0.08370,    0.00000  ], \n",
    "                    [-0.52950,    1.24650 ,  -0.00000  ], \n",
    "                    [-0.06950,   -0.09830,   -0.00000  ],\n",
    "                    [-0.43450 ,  -0.61450  ,  0.88910  ],\n",
    "                    [-0.43450 ,  -0.61450 ,  -0.88910 ],\n",
    "                    [1.62470 ,  -1.02540  ,  0.00000  ],\n",
    "                    [-1.50830 ,   1.19000  ,  0.00000]]\n",
    "ions_Methanediol=['O','O','C','H','H','H','H']"
   ]
  },
  {
   "cell_type": "code",
   "execution_count": 3,
   "metadata": {},
   "outputs": [
    {
     "name": "stdout",
     "output_type": "stream",
     "text": [
      "[[ 1.7862  0.5308  0.8891]\n",
      " [-0.095   1.861   0.8891]\n",
      " [ 0.365   0.5162  0.8891]\n",
      " [ 0.      0.      1.7782]\n",
      " [ 0.      0.      0.    ]\n",
      " [ 2.0592 -0.4109  0.8891]\n",
      " [-1.0738  1.8045  0.8891]]\n"
     ]
    }
   ],
   "source": [
    "Ionpos_Methanediol_ang_nr= Ionpos_Methanediol_ang_nc-np.array([-0.43450 ,  -0.61450 ,  -0.88910])\n",
    "print(Ionpos_Methanediol_ang_nr)"
   ]
  },
  {
   "cell_type": "code",
   "execution_count": 4,
   "metadata": {},
   "outputs": [],
   "source": [
    "b=np.mat([0,0,1])\n",
    "a=np.mat([ 0.365 ,  0.5162 , 0.8891])\n",
    "a=a/np.sqrt(np.dot(a,a.T))\n",
    "c=np.dot(a,b.T)\n",
    "v=np.cross(a,b)[0]\n",
    "s=np.sqrt(np.dot(v,v.T))\n",
    "y = np.mat([[0, -v[2], v[1]], [v[2], 0, -v[0]], [-v[1], v[0], 0]])\n",
    "\n",
    "Rot_Methanediol=np.mat(np.diag([1,1,1]))+y+np.dot(y,y)*(((1-c)/s**2)[0,0])\n",
    "Ionpos_Methanediol_ang=np.array(np.dot(Rot_Methanediol,np.mat(Ionpos_Methanediol_ang_nr.T))).T"
   ]
  },
  {
   "cell_type": "code",
   "execution_count": 5,
   "metadata": {},
   "outputs": [
    {
     "data": {
      "text/plain": [
       "array([[ 1.33227576e+00, -1.11160797e-01,  2.61239731e+00],\n",
       "       [-5.48926136e-01,  1.21903652e+00,  2.61240762e+00],\n",
       "       [ 0.00000000e+00,  0.00000000e+00,  2.13000000e+00],\n",
       "       [-5.94930187e-01, -8.41377980e-01,  2.48822816e+00],\n",
       "       [-2.57868748e-17, -6.66570706e-17,  1.03904342e+00],\n",
       "       [ 1.67057573e+00, -9.60510543e-01,  2.25815724e+00],\n",
       "       [-1.46243179e+00,  1.25487883e+00,  2.25819801e+00]])"
      ]
     },
     "execution_count": 5,
     "metadata": {},
     "output_type": "execute_result"
    }
   ],
   "source": [
    "#Converting to the bond length of platinum\n",
    "Ionpos_Methanediol_ang=Ionpos_Methanediol_ang+np.array([0,0,2.13000])-Ionpos_Methanediol_ang[list(ions_Methanediol).index('C')]\n",
    "Ionpos_Methanediol_ang"
   ]
  },
  {
   "cell_type": "code",
   "execution_count": 6,
   "metadata": {},
   "outputs": [],
   "source": [
    "Ionpos_Methanediol_ang=array([[ 1.33227576e+00, -1.11160797e-01,  2.61239731e+00],\n",
    "       [-5.48926136e-01,  1.21903652e+00,  2.61240762e+00],\n",
    "       [ 0.00000000e+00,  0.00000000e+00,  2.13000000e+00],\n",
    "       [-5.94930187e-01, -8.41377980e-01,  2.48822816e+00],\n",
    "       [ 1.67057573e+00, -9.60510543e-01,  2.25815724e+00],\n",
    "       [-1.46243179e+00,  1.25487883e+00,  2.25819801e+00]])\n",
    "ions_Methanediol=['O','O','C','H','H','H']"
   ]
  },
  {
   "cell_type": "markdown",
   "metadata": {},
   "source": [
    "## Formaldehyde"
   ]
  },
  {
   "cell_type": "code",
   "execution_count": 7,
   "metadata": {},
   "outputs": [],
   "source": [
    " Ionpos_Formaldehyde_ang_nc=np.array([[ 0.000000   ,  .000000   ,  .683501],\n",
    "            [.000000   ,  .000000 ,   -.536614],\n",
    "            [.000000  ,   .934390  , -1.124164],\n",
    "            [.000000  ,  -.934390  , -1.124164]])\n",
    "ions_Formaldehyde=['O','C','H','H']"
   ]
  },
  {
   "cell_type": "code",
   "execution_count": 8,
   "metadata": {},
   "outputs": [
    {
     "name": "stdout",
     "output_type": "stream",
     "text": [
      "[[0.       0.93439  1.807665]\n",
      " [0.       0.93439  0.58755 ]\n",
      " [0.       1.86878  0.      ]\n",
      " [0.       0.       0.      ]]\n"
     ]
    }
   ],
   "source": [
    "Ionpos_Formaldehyde_ang_nr= Ionpos_Formaldehyde_ang_nc-np.array([.000000  ,  -.934390  , -1.124164])\n",
    "print(Ionpos_Formaldehyde_ang_nr)"
   ]
  },
  {
   "cell_type": "code",
   "execution_count": 9,
   "metadata": {},
   "outputs": [
    {
     "name": "stdout",
     "output_type": "stream",
     "text": [
      "[[ 0.00000000e+00 -1.03288479e+00  1.75325025e+00]\n",
      " [ 0.00000000e+00  5.58582516e-17  1.10376613e+00]\n",
      " [ 0.00000000e+00  9.94777478e-01  1.58201026e+00]\n",
      " [ 0.00000000e+00  0.00000000e+00  0.00000000e+00]]\n"
     ]
    }
   ],
   "source": [
    "b=np.mat([0,0,1])\n",
    "a=np.mat([0.     ,  0.93439 , 0.58755 ])\n",
    "a=a/np.sqrt(np.dot(a,a.T))\n",
    "c=np.dot(a,b.T)\n",
    "v=np.cross(a,b)[0]\n",
    "s=np.sqrt(np.dot(v,v.T))\n",
    "y = np.mat([[0, -v[2], v[1]], [v[2], 0, -v[0]], [-v[1], v[0], 0]])\n",
    "\n",
    "Rot_Formaldehyde=np.mat(np.diag([1,1,1]))+y+np.dot(y,y)*(((1-c)/s**2)[0,0])\n",
    "Ionpos_Formaldehyde_ang=np.array(np.dot(Rot_Formaldehyde,np.mat(Ionpos_Formaldehyde_ang_nr.T))).T\n",
    "print(Ionpos_Formaldehyde_ang)"
   ]
  },
  {
   "cell_type": "code",
   "execution_count": 10,
   "metadata": {},
   "outputs": [
    {
     "name": "stdout",
     "output_type": "stream",
     "text": [
      "[[ 0.00000000e+00 -1.03288479e+00  2.77948411e+00]\n",
      " [ 0.00000000e+00  0.00000000e+00  2.13000000e+00]\n",
      " [ 0.00000000e+00  9.94777478e-01  2.60824413e+00]\n",
      " [ 0.00000000e+00 -5.58582516e-17  1.02623387e+00]]\n"
     ]
    }
   ],
   "source": [
    "#Converting to the bond length of platinum\n",
    "Ionpos_Formaldehyde_ang=Ionpos_Formaldehyde_ang+np.array([0,0,2.13000])-Ionpos_Formaldehyde_ang[list(ions_Formaldehyde).index('C')]\n",
    "print(Ionpos_Formaldehyde_ang)"
   ]
  },
  {
   "cell_type": "code",
   "execution_count": 11,
   "metadata": {},
   "outputs": [],
   "source": [
    "Ionpos_Formaldehyde_ang=array([[ 0.00000000e+00, -1.03288479e+00,  2.77948411e+00],\n",
    "       [ 0.00000000e+00,  0.00000000e+00,  2.13000000e+00],\n",
    "       [ 0.00000000e+00,  9.94777478e-01,  2.60824413e+00]])\n",
    "ions_Formaldehyde=['O','C','H']"
   ]
  },
  {
   "cell_type": "markdown",
   "metadata": {},
   "source": [
    "## Carbon dioxide "
   ]
  },
  {
   "cell_type": "code",
   "execution_count": 12,
   "metadata": {},
   "outputs": [],
   "source": [
    "Ionpos_CO2_ang_nr=np.array([[ 0.000000  ,  0.000000 ,0.000000],\n",
    "                            [0.00000, 0.000000   , 1.159076],\n",
    "                            [ 0.000000   , 0.000000  , -1.159076]])\n",
    "ions_CO2=['C','O','O']"
   ]
  },
  {
   "cell_type": "code",
   "execution_count": 13,
   "metadata": {},
   "outputs": [
    {
     "data": {
      "text/plain": [
       "array([[ 0.      ,  0.      ,  2.769   ],\n",
       "       [ 1.159076,  0.      ,  2.769   ],\n",
       "       [-1.159076,  0.      ,  2.769   ]])"
      ]
     },
     "execution_count": 13,
     "metadata": {},
     "output_type": "execute_result"
    }
   ],
   "source": [
    "b=np.mat([1,0,0])\n",
    "a=np.mat([0.     ,  0 , 1 ])\n",
    "a=a/np.sqrt(np.dot(a,a.T))\n",
    "c=np.dot(a,b.T)\n",
    "v=np.cross(a,b)[0]\n",
    "s=np.sqrt(np.dot(v,v.T))\n",
    "y = np.mat([[0, -v[2], v[1]], [v[2], 0, -v[0]], [-v[1], v[0], 0]])\n",
    "\n",
    "Rot_CO2=np.mat(np.diag([1,1,1]))+y+np.dot(y,y)*(((1-c)/s**2)[0,0])\n",
    "Ionpos_CO2_ang=np.array(np.dot(Rot_CO2,np.mat(Ionpos_CO2_ang_nr.T))).T\n",
    "Ionpos_CO2_ang=Ionpos_CO2_ang+1.3*np.array([0,0,2.13000])\n",
    "Ionpos_CO2_ang"
   ]
  },
  {
   "cell_type": "markdown",
   "metadata": {},
   "source": [
    "## Formic acid"
   ]
  },
  {
   "cell_type": "code",
   "execution_count": 14,
   "metadata": {},
   "outputs": [],
   "source": [
    "Ionpos_Formic_acid_ang_nc=np.array([[0.7910  ,   -0.0921   ,   1.3425],\n",
    "   [0.3208  ,   -0.0411   ,   0.3549],\n",
    "   [0.8042   ,  -0.1358   ,  -0.7518],\n",
    "   [-1.0065  ,    0.1597   ,   0.4283],\n",
    "   [-1.4043   ,   0.2023  ,   -0.4370]])  \n",
    "ions_Formic_acid=['H','C','O','O','H']"
   ]
  },
  {
   "cell_type": "code",
   "execution_count": 15,
   "metadata": {},
   "outputs": [
    {
     "data": {
      "text/plain": [
       "array([[ 0.98664014,  1.20954987,  2.76895296],\n",
       "       [ 0.3725139 ,  0.30296741,  2.76895296],\n",
       "       [ 0.69463083, -0.86479508,  2.76895296],\n",
       "       [-0.94406658,  0.57508739,  2.76910862],\n",
       "       [-1.46797623, -0.22135619,  2.76906337]])"
      ]
     },
     "execution_count": 15,
     "metadata": {},
     "output_type": "execute_result"
    }
   ],
   "source": [
    "b=np.mat([0,0,1])\n",
    "a=np.mat(np.cross(Ionpos_Formic_acid_ang_nc[1]-Ionpos_Formic_acid_ang_nc[0], Ionpos_Formic_acid_ang_nc[2]-Ionpos_Formic_acid_ang_nc[0])) #the molecule is planar, we rotate to set the normal vector of the plane to line up with the z axis\n",
    "a=a/np.sqrt(np.dot(a,a.T))\n",
    "c=np.dot(a,b.T)\n",
    "v=np.cross(a,b)[0]\n",
    "s=np.sqrt(np.dot(v,v.T))\n",
    "y = np.mat([[0, -v[2], v[1]], [v[2], 0, -v[0]], [-v[1], v[0], 0]])\n",
    "\n",
    "Rot_Formic_acid=np.mat(np.diag([1,1,1]))+y+np.dot(y,y)*(((1-c)/s**2)[0,0])\n",
    "Ionpos_Formic_acid_ang=np.array(np.dot(Rot_Formic_acid,np.mat(Ionpos_Formic_acid_ang_nc.T))).T\n",
    "Ionpos_Formic_acid_ang=Ionpos_Formic_acid_ang+1.3*np.array([0,0,2.13000])\n",
    "Ionpos_Formic_acid_ang"
   ]
  },
  {
   "cell_type": "markdown",
   "metadata": {},
   "source": [
    "## Carbon Monoxide "
   ]
  },
  {
   "cell_type": "code",
   "execution_count": 16,
   "metadata": {},
   "outputs": [],
   "source": [
    "Ionpos_CO_ang_nc=[[ 0.00000 ,  0.00000,    0.00000  ], \n",
    "                    [0.00000,    0.00000 ,  1.21000  ]]\n",
    "ions_CO=['C','O']\n",
    "Ionpos_CO_ang=Ionpos_CO_ang_nc+np.array([0,0,1.9])"
   ]
  },
  {
   "cell_type": "markdown",
   "metadata": {},
   "source": [
    "## Oxigen"
   ]
  },
  {
   "cell_type": "code",
   "execution_count": 17,
   "metadata": {},
   "outputs": [],
   "source": [
    "Ionpos_O_ang_nc=np.array([[ 0.00000 ,  0.00000,    0.00000  ]])\n",
    "ions_O=['O']\n",
    "Ionpos_O_ang=Ionpos_O_ang_nc+np.array([0,0,1.9])"
   ]
  },
  {
   "cell_type": "markdown",
   "metadata": {},
   "source": [
    "##  hydroperoxil "
   ]
  },
  {
   "cell_type": "code",
   "execution_count": 18,
   "metadata": {},
   "outputs": [],
   "source": [
    "Ionpos_HO2_1_ang_nc=np.array([[ \t0.0611, \t0.0000, \t-0.6414],\n",
    "    [0.0611, \t0.0000, \t0.7476],\n",
    "\t[-0.9779,\t0.0000, \t-0.8497]])\n",
    "Ionpos_HO2_1_ang_nc=Ionpos_HO2_1_ang_nc-Ionpos_HO2_1_ang_nc[0]\n",
    "ions_HO2_1=['O','O','H']\n"
   ]
  },
  {
   "cell_type": "code",
   "execution_count": 19,
   "metadata": {},
   "outputs": [
    {
     "data": {
      "text/plain": [
       "array([[ 0.        ,  0.        ,  1.9       ],\n",
       "       [ 1.16434664,  0.        ,  2.65737567],\n",
       "       [-0.74114235,  0.        ,  2.65737567]])"
      ]
     },
     "execution_count": 19,
     "metadata": {},
     "output_type": "execute_result"
    }
   ],
   "source": [
    "b=np.mat([0,0,-1])\n",
    "a=np.mat(np.cross(Ionpos_HO2_1_ang_nc[2]-Ionpos_HO2_1_ang_nc[1],np.cross(Ionpos_HO2_1_ang_nc[0]-Ionpos_HO2_1_ang_nc[1],Ionpos_HO2_1_ang_nc[2]-Ionpos_HO2_1_ang_nc[0]))) #the molecule is planar, we rotate to set the normal vector of the plane to line up with the z axis\n",
    "a=a/np.sqrt(np.dot(a,a.T))\n",
    "c=np.dot(a,b.T)\n",
    "v=np.cross(a,b)[0]\n",
    "s=np.sqrt(np.dot(v,v.T))\n",
    "y = np.mat([[0, -v[2], v[1]], [v[2], 0, -v[0]], [-v[1], v[0], 0]])\n",
    "\n",
    "Rot_HO2_1=np.mat(np.diag([1,1,1]))+y+np.dot(y,y)*(((1-c)/s**2)[0,0])\n",
    "Ionpos_HO2_1_ang=np.array(np.dot(Rot_HO2_1,np.mat(Ionpos_HO2_1_ang_nc.T))).T\n",
    "Ionpos_HO2_1_ang=Ionpos_HO2_1_ang+np.array([0,0,1.9])\n",
    "Ionpos_HO2_1_ang"
   ]
  },
  {
   "cell_type": "code",
   "execution_count": 20,
   "metadata": {},
   "outputs": [],
   "source": [
    "Ionpos_HO2_2_ang_nc=np.array([[ \t0.0611, \t0.0000, \t-0.6414],\n",
    "    [0.0611, \t0.0000, \t0.7476],\n",
    "\t[-0.9779,\t0.0000, \t-0.8497]])\n",
    "Ionpos_HO2_2_ang_nc=Ionpos_HO2_2_ang_nc-Ionpos_HO2_2_ang_nc[1]\n",
    "ions_HO2_2=['O','O','H']\n"
   ]
  },
  {
   "cell_type": "code",
   "execution_count": 21,
   "metadata": {},
   "outputs": [
    {
     "data": {
      "text/plain": [
       "array([[0.    , 0.    , 3.289 ],\n",
       "       [0.    , 0.    , 1.9   ],\n",
       "       [1.039 , 0.    , 3.4973]])"
      ]
     },
     "execution_count": 21,
     "metadata": {},
     "output_type": "execute_result"
    }
   ],
   "source": [
    "\n",
    "Ionpos_HO2_2_ang=np.array(-np.mat(Ionpos_HO2_2_ang_nc.T)).T\n",
    "Ionpos_HO2_2_ang=Ionpos_HO2_2_ang+np.array([0,0,1.9000])\n",
    "Ionpos_HO2_2_ang"
   ]
  },
  {
   "cell_type": "markdown",
   "metadata": {},
   "source": [
    "## Hydroxide "
   ]
  },
  {
   "cell_type": "code",
   "execution_count": 22,
   "metadata": {},
   "outputs": [],
   "source": [
    "Ionpos_OH_ang_nc=[[ 0.00000 ,  0.00000,    0.00000  ],[ 0.00000 ,  0.00000,    0.98 ]]\n",
    "ions_OH=['O','H']\n",
    "Ionpos_OH_ang=Ionpos_OH_ang_nc+np.array([0,0,1.9])"
   ]
  },
  {
   "cell_type": "markdown",
   "metadata": {},
   "source": [
    "### appending all molecules and groups"
   ]
  },
  {
   "cell_type": "code",
   "execution_count": 23,
   "metadata": {},
   "outputs": [],
   "source": [
    "Ionpos_Mols=[Ionpos_O_ang,Ionpos_HO2_1_ang, Ionpos_HO2_2_ang,Ionpos_OH_ang]\n",
    "ion_symb=[ions_O,ions_HO2_1,ions_HO2_2,ions_OH]"
   ]
  },
  {
   "cell_type": "markdown",
   "metadata": {},
   "source": [
    "# Initializing lattices"
   ]
  },
  {
   "cell_type": "code",
   "execution_count": 24,
   "metadata": {},
   "outputs": [
    {
     "name": "stdout",
     "output_type": "stream",
     "text": [
      "[[18.86376392 10.89100622 40.01618549 90.         90.         90.        ]\n",
      " [18.86376392 10.89100622 40.01618549 90.         90.         90.        ]\n",
      " [18.86376392 10.89100622 40.01618549 90.         90.         90.        ]\n",
      " [18.86376392 10.89100622 40.01618549 90.         90.         90.        ]]\n"
     ]
    }
   ],
   "source": [
    "filename='lattices.dat'\n",
    "f=open(filename)\n",
    "latts=f.readlines()\n",
    "f.close()\n",
    "lattices=[lat[:-1] for lat in latts]\n",
    "lati=[la.split() for la in lattices]\n",
    "latman=np.array([[float(i) for i in j] for j in lati])\n",
    "latman[:,:3]=latman[:,:3]*0.529177\n",
    "latman_Bohr=np.array([[float(i) for i in j] for j in lati])\n",
    "#latman_Bohr[:,:3]=1.88973*latman_Bohr[:,:3] ## convert to bohr\n",
    "latman_Bohr[:,:3]=latman_Bohr[:,:3] ## convert to bohr\n",
    "print(latman_Bohr)\n"
   ]
  },
  {
   "cell_type": "code",
   "execution_count": 25,
   "metadata": {},
   "outputs": [
    {
     "name": "stdout",
     "output_type": "stream",
     "text": [
      "[[18.86376392 10.89100622 40.01618549 90.         90.         90.        ]\n",
      " [18.86376392 10.89100622 40.01618549 90.         90.         90.        ]\n",
      " [18.86376392 10.89100622 40.01618549 90.         90.         90.        ]\n",
      " [18.86376392 10.89100622 40.01618549 90.         90.         90.        ]]\n",
      "['18.8637639202  10.8910062229 40.0161854853  90.0000  90.0000 90.0000\\n']\n"
     ]
    }
   ],
   "source": [
    "print(latman_Bohr)\n",
    "f=open(filename)\n",
    "lattnames=f.readlines()[::5]\n",
    "print(lattnames)"
   ]
  },
  {
   "cell_type": "code",
   "execution_count": 26,
   "metadata": {},
   "outputs": [],
   "source": [
    "##making the lattice files for input\n",
    "for i in range(len(latman_Bohr)):\n",
    "    file = open('111_'+str(i)+'/spinel111.lattice', 'w')\n",
    "    file.write('lattice Triclinic '+str(latman_Bohr[i])[1:-6]) \n",
    "    file.close()"
   ]
  },
  {
   "cell_type": "code",
   "execution_count": 27,
   "metadata": {},
   "outputs": [],
   "source": [
    "### change of basis matrices\n",
    "Chang=[]\n",
    "for lat in latman:\n",
    "    alph=radians(lat[3])\n",
    "    bet=radians(lat[4])\n",
    "    gamm=radians(lat[5])\n",
    "    a=lat[0]\n",
    "    b=lat[1]\n",
    "    c=lat[2]\n",
    "    Omega=a*b*c*np.sqrt(1-cos(alph)*cos(alph)-cos(bet)*cos(bet)-cos(gamm)*cos(gamm)+2*cos(alph)*cos(bet)*cos(gamm))\n",
    "    Mat=[[1/a, -cos(gamm)/(a*sin(gamm)),b*c*(cos(alph)-cos(bet)*cos(gamm))/(Omega*sin(gamm))],[0, 1/(b*sin(gamm)),-a*c*(cos(alph)-cos(bet)*cos(gamm))/(Omega*sin(gamm))],[0,0,a*b*sin(gamm)/Omega]]\n",
    "    Chang.append(Mat)\n",
    "    \n"
   ]
  },
  {
   "cell_type": "markdown",
   "metadata": {},
   "source": [
    "# Initialize Pt fractional coords"
   ]
  },
  {
   "cell_type": "code",
   "execution_count": 28,
   "metadata": {},
   "outputs": [
    {
     "name": "stdout",
     "output_type": "stream",
     "text": [
      "[[0.33333 0.      0.02778]\n",
      " [0.83333 0.5     0.02778]\n",
      " [0.74083 0.77751 0.05861]\n",
      " [0.24083 0.27751 0.05861]\n",
      " [0.24083 0.72249 0.05861]\n",
      " [0.74083 0.22249 0.05861]\n",
      " [0.51834 0.      0.05861]\n",
      " [0.01834 0.5     0.05861]\n",
      " [0.      0.      0.06473]\n",
      " [0.5     0.5     0.06473]\n",
      " [0.83333 0.      0.11112]\n",
      " [0.33333 0.5     0.11112]\n",
      " [0.58333 0.25    0.11112]\n",
      " [0.08333 0.75    0.11112]\n",
      " [0.58333 0.75    0.11112]\n",
      " [0.08333 0.25    0.11112]\n",
      " [0.5     0.      0.88889]\n",
      " [0.      0.5     0.88889]\n",
      " [0.25    0.25    0.88889]\n",
      " [0.75    0.75    0.88889]\n",
      " [0.25    0.75    0.88889]\n",
      " [0.75    0.25    0.88889]\n",
      " [0.33333 0.      0.93528]\n",
      " [0.83333 0.5     0.93528]\n",
      " [0.0925  0.27751 0.94138]\n",
      " [0.5925  0.77751 0.94138]\n",
      " [0.31499 0.5     0.94138]\n",
      " [0.81499 0.      0.94138]\n",
      " [0.5925  0.22249 0.94138]\n",
      " [0.0925  0.72249 0.94138]\n",
      " [0.      0.      0.97222]\n",
      " [0.5     0.5     0.97222]\n",
      " [0.66667 0.      1.     ]\n",
      " [0.16667 0.5     1.     ]]\n"
     ]
    }
   ],
   "source": [
    "Pt=loadtxt(\"fracoords.dat\")\n",
    "print(Pt)"
   ]
  },
  {
   "cell_type": "code",
   "execution_count": 30,
   "metadata": {},
   "outputs": [
    {
     "name": "stdout",
     "output_type": "stream",
     "text": [
      "ion O \n",
      "ion O \n",
      "ion O \n",
      "ion H \n",
      "ion O \n",
      "ion O \n",
      "ion H \n",
      "ion O \n",
      "ion H \n"
     ]
    },
    {
     "ename": "IndexError",
     "evalue": "list index out of range",
     "output_type": "error",
     "traceback": [
      "\u001b[0;31m---------------------------------------------------------------------------\u001b[0m",
      "\u001b[0;31mIndexError\u001b[0m                                Traceback (most recent call last)",
      "\u001b[0;32m<ipython-input-30-fbde8a50123f>\u001b[0m in \u001b[0;36m<module>\u001b[0;34m()\u001b[0m\n\u001b[1;32m      3\u001b[0m \u001b[0;34m\u001b[0m\u001b[0m\n\u001b[1;32m      4\u001b[0m         \u001b[0mfile\u001b[0m \u001b[0;34m=\u001b[0m \u001b[0mopen\u001b[0m\u001b[0;34m(\u001b[0m\u001b[0;34m'spinel111_mol'\u001b[0m\u001b[0;34m+\u001b[0m\u001b[0;34m'_'\u001b[0m\u001b[0;34m+\u001b[0m\u001b[0mstr\u001b[0m\u001b[0;34m(\u001b[0m\u001b[0mj\u001b[0m\u001b[0;34m)\u001b[0m\u001b[0;34m+\u001b[0m\u001b[0;34m'.ionpos'\u001b[0m\u001b[0;34m,\u001b[0m \u001b[0;34m'w'\u001b[0m\u001b[0;34m)\u001b[0m\u001b[0;34m\u001b[0m\u001b[0m\n\u001b[0;32m----> 5\u001b[0;31m         \u001b[0mchange_basis\u001b[0m\u001b[0;34m=\u001b[0m\u001b[0mdot\u001b[0m\u001b[0;34m(\u001b[0m\u001b[0mChang\u001b[0m\u001b[0;34m[\u001b[0m\u001b[0mi\u001b[0m\u001b[0;34m]\u001b[0m\u001b[0;34m,\u001b[0m\u001b[0mIonpos_Mols\u001b[0m\u001b[0;34m[\u001b[0m\u001b[0mj\u001b[0m\u001b[0;34m]\u001b[0m\u001b[0;34m.\u001b[0m\u001b[0mT\u001b[0m\u001b[0;34m)\u001b[0m\u001b[0;34m.\u001b[0m\u001b[0mT\u001b[0m\u001b[0;34m+\u001b[0m\u001b[0;36m0.5\u001b[0m\u001b[0;34m*\u001b[0m\u001b[0;34m(\u001b[0m\u001b[0mnp\u001b[0m\u001b[0;34m.\u001b[0m\u001b[0marray\u001b[0m\u001b[0;34m(\u001b[0m \u001b[0;34m[\u001b[0m\u001b[0;36m0.33333\u001b[0m  \u001b[0;34m,\u001b[0m  \u001b[0;36m0.5\u001b[0m     \u001b[0;34m,\u001b[0m   \u001b[0;36m0.11112\u001b[0m   \u001b[0;34m]\u001b[0m\u001b[0;34m)\u001b[0m \u001b[0;34m+\u001b[0m\u001b[0mnp\u001b[0m\u001b[0;34m.\u001b[0m\u001b[0marray\u001b[0m\u001b[0;34m(\u001b[0m \u001b[0;34m[\u001b[0m\u001b[0;36m0.08333\u001b[0m  \u001b[0;34m,\u001b[0m  \u001b[0;36m0.25\u001b[0m  \u001b[0;34m,\u001b[0m     \u001b[0;36m0.11112\u001b[0m   \u001b[0;34m]\u001b[0m\u001b[0;34m)\u001b[0m  \u001b[0;34m)\u001b[0m\u001b[0;34m\u001b[0m\u001b[0m\n\u001b[0m\u001b[1;32m      6\u001b[0m         \u001b[0;31m#print(j,'\\n','\\n',dot(Chang[i],Ionpos_Mols[j].T).T,'\\n','\\n',change_basis,'\\n','\\n',Ionpos_Mols[j])\u001b[0m\u001b[0;34m\u001b[0m\u001b[0;34m\u001b[0m\u001b[0m\n\u001b[1;32m      7\u001b[0m         \u001b[0;32mfor\u001b[0m \u001b[0mk\u001b[0m \u001b[0;32min\u001b[0m \u001b[0mrange\u001b[0m\u001b[0;34m(\u001b[0m\u001b[0msize\u001b[0m\u001b[0;34m(\u001b[0m\u001b[0mion_symb\u001b[0m\u001b[0;34m[\u001b[0m\u001b[0mj\u001b[0m\u001b[0;34m]\u001b[0m\u001b[0;34m)\u001b[0m\u001b[0;34m)\u001b[0m\u001b[0;34m:\u001b[0m\u001b[0;34m\u001b[0m\u001b[0m\n",
      "\u001b[0;31mIndexError\u001b[0m: list index out of range"
     ]
    }
   ],
   "source": [
    "for i in range(len(latman)):\n",
    "    for j in range(5):\n",
    "        \n",
    "        file = open('spinel111_mol'+'_'+str(j)+'.ionpos', 'w')\n",
    "        change_basis=dot(Chang[i],Ionpos_Mols[j].T).T+0.5*(np.array( [0.33333  ,  0.5     ,   0.11112   ]) +np.array( [0.08333  ,  0.25  ,     0.11112   ])  ) \n",
    "        #print(j,'\\n','\\n',dot(Chang[i],Ionpos_Mols[j].T).T,'\\n','\\n',change_basis,'\\n','\\n',Ionpos_Mols[j])\n",
    "        for k in range(size(ion_symb[j])):\n",
    "            file.write('ion '+ion_symb[j][k]+' ' )\n",
    "            print('ion '+ion_symb[j][k]+' ')\n",
    "            for q in range(len(change_basis[k])):\n",
    "                file.write(\"%.5f\" % change_basis[k][q]+ ' ')\n",
    "            file.write('1 \\n')\n",
    "            \n",
    "        "
   ]
  },
  {
   "cell_type": "code",
   "execution_count": 39,
   "metadata": {},
   "outputs": [
    {
     "data": {
      "text/plain": [
       "1.8917584412392614"
      ]
     },
     "execution_count": 39,
     "metadata": {},
     "output_type": "execute_result"
    }
   ],
   "source": [
    "sum(0.5*(np.array( [0.33333   , 0.5     ,  0   ]) -np.array( [0.08333  ,  0.25  ,     0  ])  ) *0.5*(np.array( [0.33333   , 0.5     ,  0   ]) -np.array( [0.08333  ,  0.25  ,     0  ])  )) \n",
    "sqrt(1.9**2 -0.03125)"
   ]
  },
  {
   "cell_type": "code",
   "execution_count": 93,
   "metadata": {},
   "outputs": [
    {
     "data": {
      "text/plain": [
       "4"
      ]
     },
     "execution_count": 93,
     "metadata": {},
     "output_type": "execute_result"
    }
   ],
   "source": [
    "size(Ionpos_Mols)"
   ]
  },
  {
   "cell_type": "code",
   "execution_count": 248,
   "metadata": {},
   "outputs": [
    {
     "name": "stdout",
     "output_type": "stream",
     "text": [
      "Ion O 0.000 -1.033 2.779 \n",
      "\n",
      "Ion C 0.000 0.000 2.130 \n",
      "\n",
      "Ion H 0.000 0.995 2.608 \n",
      "\n",
      "Ion H 0.000 -0.000 1.026 \n",
      "\n"
     ]
    }
   ],
   "source": [
    "for i in range(len(Ionpos_Formaldehyde_ang)):\n",
    "    print('Ion '+ions_Formaldehyde[i], end=' ' )\n",
    "    for j in range(len(Ionpos_Formaldehyde_ang[i])):\n",
    "        print(\"%.3f\" % Ionpos_Formaldehyde_ang[i][j], end = ' ')\n",
    "    print('\\n')"
   ]
  },
  {
   "cell_type": "code",
   "execution_count": 236,
   "metadata": {},
   "outputs": [
    {
     "name": "stdout",
     "output_type": "stream",
     "text": [
      "Ion O 1.332 -0.111 2.612 \n",
      "\n",
      "Ion O -0.549 1.219 2.612 \n",
      "\n",
      "Ion C 0.000 0.000 2.130 \n",
      "\n",
      "Ion H -0.595 -0.841 2.488 \n",
      "\n",
      "Ion H 1.671 -0.961 2.258 \n",
      "\n",
      "Ion H -1.462 1.255 2.258 \n",
      "\n"
     ]
    }
   ],
   "source": [
    "for i in range(len(Ionpos_Methanediol_ang)):\n",
    "    print('Ion '+ions_Methanediol[i], end=' ' )\n",
    "    for j in range(len(Ionpos_Methanediol_ang[i])):\n",
    "        print(\"%.3f\" % Ionpos_Methanediol_ang[i][j], end = ' ')\n",
    "    print('\\n')"
   ]
  },
  {
   "cell_type": "code",
   "execution_count": 218,
   "metadata": {},
   "outputs": [
    {
     "name": "stdout",
     "output_type": "stream",
     "text": [
      "Ion H 0.987 1.210 3.195 \n",
      "\n",
      "Ion C 0.373 0.303 3.195 \n",
      "\n",
      "Ion O 0.695 -0.865 3.195 \n",
      "\n",
      "Ion O -0.944 0.575 3.195 \n",
      "\n",
      "Ion H -1.468 -0.221 3.195 \n",
      "\n"
     ]
    }
   ],
   "source": [
    "for i in range(len(Ionpos_Formic_acid_ang)):\n",
    "    print('Ion '+ions_Formic_acid[i], end=' ' )\n",
    "    for j in range(len(Ionpos_Formic_acid_ang[i])):\n",
    "        print(\"%.3f\" % Ionpos_Formic_acid_ang[i][j], end = ' ')\n",
    "    print('\\n')\n"
   ]
  },
  {
   "cell_type": "code",
   "execution_count": 219,
   "metadata": {},
   "outputs": [
    {
     "name": "stdout",
     "output_type": "stream",
     "text": [
      "Ion C 0.000 0.000 2.556 \n",
      "\n",
      "Ion O 1.159 0.000 2.556 \n",
      "\n",
      "Ion O -1.159 0.000 2.556 \n",
      "\n"
     ]
    }
   ],
   "source": [
    "\n",
    "for i in range(len(Ionpos_CO2_ang)):\n",
    "    print('Ion '+ions_CO2[i], end=' ' )\n",
    "    for j in range(len(Ionpos_CO2_ang[i])):\n",
    "        print(\"%.3f\" % Ionpos_CO2_ang[i][j], end = ' ')\n",
    "    print('\\n')"
   ]
  },
  {
   "cell_type": "code",
   "execution_count": 220,
   "metadata": {},
   "outputs": [
    {
     "name": "stdout",
     "output_type": "stream",
     "text": [
      "Ion O 0.000 -1.033 1.753 \n",
      "\n",
      "Ion C 0.000 0.000 1.104 \n",
      "\n",
      "Ion H 0.000 0.995 1.582 \n",
      "\n",
      "Ion H 0.000 0.000 0.000 \n",
      "\n",
      "__________________________\n",
      "Ion O -0.338 0.849 0.354 \n",
      "\n",
      "Ion O -2.220 2.180 0.354 \n",
      "\n",
      "Ion C -1.671 0.961 -0.128 \n",
      "\n",
      "Ion H -2.266 0.119 0.230 \n",
      "\n",
      "Ion H 0.000 0.000 0.000 \n",
      "\n",
      "Ion H -3.133 2.215 0.000 \n",
      "\n",
      "__________________________\n",
      "Ion H 0.614 0.907 0.000 \n",
      "\n",
      "Ion C 0.000 0.000 0.000 \n",
      "\n",
      "Ion O 0.322 -1.168 0.000 \n",
      "\n",
      "Ion O -1.317 0.272 0.000 \n",
      "\n",
      "Ion H -1.840 -0.524 0.000 \n",
      "\n",
      "__________________________\n",
      "Ion C 0.000 0.000 2.556 \n",
      "\n",
      "Ion O 1.159 0.000 2.556 \n",
      "\n",
      "Ion O -1.159 0.000 2.556 \n",
      "\n"
     ]
    }
   ],
   "source": [
    "Ionpos_Formaldehyde_p=np.array(Ionpos_Formaldehyde_ang)-array(Ionpos_Formaldehyde_ang[-1])\n",
    "Ionpos_Methanediol_p=np.array(Ionpos_Methanediol_ang)-array(Ionpos_Methanediol_ang[4])\n",
    "Ionpos_Formic_acid_p=np.array(Ionpos_Formic_acid_ang)-array(Ionpos_Formic_acid_ang[1])\n",
    "Ionpos_CO2_p=np.array(Ionpos_CO2_ang)\n",
    "for i in range(len(Ionpos_Formaldehyde_p)):\n",
    "    print('Ion '+ions_Formaldehyde[i], end=' ' )\n",
    "    for j in range(len(Ionpos_Formaldehyde_p[i])):\n",
    "        print(\"%.3f\" % Ionpos_Formaldehyde_p[i][j], end = ' ')\n",
    "    print('\\n')\n",
    "print('__________________________')\n",
    "for i in range(len(Ionpos_Methanediol_p)):\n",
    "    print('Ion '+ions_Methanediol[i], end=' ' )\n",
    "    for j in range(len(Ionpos_Methanediol_p[i])):\n",
    "        print(\"%.3f\" % Ionpos_Methanediol_p[i][j], end = ' ')\n",
    "    print('\\n')\n",
    "    \n",
    "print('__________________________')\n",
    "for i in range(len(Ionpos_Formic_acid_p)):\n",
    "    print('Ion '+ions_Formic_acid[i], end=' ' )\n",
    "    for j in range(len(Ionpos_Formic_acid_p[i])):\n",
    "        print(\"%.3f\" % Ionpos_Formic_acid_p[i][j], end = ' ')\n",
    "    print('\\n')\n",
    "print('__________________________')\n",
    "for i in range(len(Ionpos_CO2_p)):\n",
    "    print('Ion '+ions_CO2[i], end=' ' )\n",
    "    for j in range(len(Ionpos_CO2_p[i])):\n",
    "        print(\"%.3f\" % Ionpos_CO2_p[i][j], end = ' ')\n",
    "    print('\\n')"
   ]
  },
  {
   "cell_type": "code",
   "execution_count": 23,
   "metadata": {},
   "outputs": [
    {
     "name": "stdout",
     "output_type": "stream",
     "text": [
      "23.52 10.47612863727537 10.47612863727537 44.446449599999994\n"
     ]
    }
   ],
   "source": [
    "#conversion factors\n",
    "a_Pt=0.392 #nm\n",
    "a_Pt_ang=a_Pt*10 #angstrom\n",
    "a_Pt_ang1=2*a_Pt_ang/sqrt(2) #angstrom\n",
    "a_Pt_ang2=2*a_Pt_ang/sqrt(2)#angstrom\n",
    "a_Pt_ang3=6*a_Pt_ang #angstrom\n",
    "\n",
    "print(a_Pt_ang3,a_Pt_ang1*1.88973,a_Pt_ang2*1.88973,a_Pt_ang3*1.88973)\n",
    "A100_Formaldehyde=np.array([np.ones(len(Ionpos_Formaldehyde_p))*a_Pt_ang1,np.ones(len(Ionpos_Formaldehyde_p))*a_Pt_ang2,np.ones(len(Ionpos_Formaldehyde_p))*a_Pt_ang3])\n",
    "A100_Ionpos_Methanediol=np.array([np.ones(len(Ionpos_Methanediol_p))*a_Pt_ang1,np.ones(len(Ionpos_Methanediol_p))*a_Pt_ang2,np.ones(len(Ionpos_Methanediol_p))*a_Pt_ang3])\n",
    "A100_Ionpos_Formic_acid=np.array([np.ones(len(Ionpos_Formic_acid_p))*a_Pt_ang1,np.ones(len(Ionpos_Formic_acid_p))*a_Pt_ang2,np.ones(len(Ionpos_Formic_acid_p))*a_Pt_ang3])\n",
    "A100_CO2=np.array([np.ones(len(Ionpos_CO2_p))*a_Pt_ang1,np.ones(len(Ionpos_CO2_p))*a_Pt_ang2,np.ones(len(Ionpos_CO2_p))*a_Pt_ang3])\n"
   ]
  },
  {
   "cell_type": "code",
   "execution_count": 24,
   "metadata": {},
   "outputs": [],
   "source": [
    "Ionpos_Formaldehyde_pp=Ionpos_Formaldehyde_p/A100_Formaldehyde.T"
   ]
  },
  {
   "cell_type": "code",
   "execution_count": 25,
   "metadata": {},
   "outputs": [],
   "source": [
    "Ionpos_Methanediol_pp=Ionpos_Methanediol_p/A100_Ionpos_Methanediol.T"
   ]
  },
  {
   "cell_type": "code",
   "execution_count": 26,
   "metadata": {},
   "outputs": [],
   "source": [
    "Ionpos_Formic_acid_pp=Ionpos_Formic_acid_p/A100_Ionpos_Formic_acid.T"
   ]
  },
  {
   "cell_type": "code",
   "execution_count": 27,
   "metadata": {},
   "outputs": [],
   "source": [
    "Ionpos_CO2_pp=Ionpos_CO2_p/A100_CO2.T"
   ]
  },
  {
   "cell_type": "code",
   "execution_count": 28,
   "metadata": {},
   "outputs": [
    {
     "name": "stdout",
     "output_type": "stream",
     "text": [
      "ion O 0.000 -0.186 0.075 1 \n",
      "\n",
      "ion C 0.000 0.000 0.047 1 \n",
      "\n",
      "ion H 0.000 0.179 0.067 1 \n",
      "\n",
      "ion H 0.000 0.000 0.000 1 \n",
      "\n",
      "__________________________\n",
      "ion O 0.240 -0.020 0.067 1 \n",
      "\n",
      "ion O -0.099 0.220 0.067 1 \n",
      "\n",
      "ion C 0.000 0.000 0.046 1 \n",
      "\n",
      "ion H -0.107 -0.152 0.062 1 \n",
      "\n",
      "ion H 0.000 0.000 0.000 1 \n",
      "\n",
      "ion H 0.301 -0.173 0.052 1 \n",
      "\n",
      "ion H -0.264 0.226 0.052 1 \n",
      "\n",
      "__________________________\n",
      "ion H 0.111 0.164 0.000 1 \n",
      "\n",
      "ion C 0.000 0.000 0.000 1 \n",
      "\n",
      "ion O 0.058 -0.211 0.000 1 \n",
      "\n",
      "ion O -0.237 0.049 0.000 1 \n",
      "\n",
      "ion H -0.332 -0.095 0.000 1 \n",
      "\n",
      "__________________________\n",
      "ion C 0.000 0.000 0.000 1 \n",
      "\n",
      "ion O 0.209 0.000 0.000 1 \n",
      "\n",
      "ion O -0.209 0.000 0.000 1 \n",
      "\n"
     ]
    }
   ],
   "source": [
    "for i in range(len(Ionpos_Formaldehyde_pp)):\n",
    "    print('ion '+ions_Formaldehyde[i], end=' ' )\n",
    "    for j in range(len(Ionpos_Formaldehyde_pp[i])):\n",
    "        print(\"%.3f\" % Ionpos_Formaldehyde_pp[i][j], end = ' ')\n",
    "    print('1 \\n')\n",
    "print('__________________________')\n",
    "for i in range(len(Ionpos_Methanediol_pp)):\n",
    "    print('ion '+ions_Methanediol[i], end=' ' )\n",
    "    for j in range(len(Ionpos_Methanediol_pp[i])):\n",
    "        print(\"%.3f\" % Ionpos_Methanediol_pp[i][j], end = ' ')\n",
    "    print('1 \\n')\n",
    "print('__________________________') \n",
    "for i in range(len(Ionpos_Formic_acid_pp)):\n",
    "    print('ion '+ions_Formic_acid[i], end=' ' )\n",
    "    for j in range(len(Ionpos_Formic_acid_pp[i])):\n",
    "        print(\"%.3f\" % Ionpos_Formic_acid_pp[i][j], end = ' ')\n",
    "    print('1 \\n')\n",
    "print('__________________________') \n",
    "for i in range(len(Ionpos_CO2_pp)):\n",
    "    print('ion '+ions_CO2[i], end=' ' )\n",
    "    for j in range(len(Ionpos_CO2_pp[i])):\n",
    "        print(\"%.3f\" % Ionpos_CO2_pp[i][j], end = ' ')\n",
    "    print('1 \\n')"
   ]
  },
  {
   "cell_type": "code",
   "execution_count": null,
   "metadata": {},
   "outputs": [],
   "source": []
  },
  {
   "cell_type": "code",
   "execution_count": null,
   "metadata": {},
   "outputs": [],
   "source": []
  },
  {
   "cell_type": "code",
   "execution_count": null,
   "metadata": {},
   "outputs": [],
   "source": []
  },
  {
   "cell_type": "code",
   "execution_count": null,
   "metadata": {},
   "outputs": [],
   "source": []
  },
  {
   "cell_type": "code",
   "execution_count": null,
   "metadata": {},
   "outputs": [],
   "source": []
  },
  {
   "cell_type": "code",
   "execution_count": null,
   "metadata": {},
   "outputs": [],
   "source": []
  },
  {
   "cell_type": "code",
   "execution_count": null,
   "metadata": {},
   "outputs": [],
   "source": []
  },
  {
   "cell_type": "code",
   "execution_count": null,
   "metadata": {},
   "outputs": [],
   "source": []
  },
  {
   "cell_type": "code",
   "execution_count": 29,
   "metadata": {},
   "outputs": [
    {
     "data": {
      "text/plain": [
       "0.07908163265306122"
      ]
     },
     "execution_count": 29,
     "metadata": {},
     "output_type": "execute_result"
    }
   ],
   "source": [
    "#distance to platinum\n",
    "Dis_ang=.186*10 #literature value in bohr\n",
    "Dis=Dis_ang/(a_Pt_ang3) #in units of the lattice constants \n",
    "\n",
    "\n",
    "#summing the position of the central atom in the top most layer of  the surface\n",
    "\n",
    "Dis"
   ]
  },
  {
   "cell_type": "code",
   "execution_count": 30,
   "metadata": {},
   "outputs": [],
   "source": [
    "Ionpos_Formaldehyde_ppp=Ionpos_Formaldehyde_pp+np.array([0,0,Dis-0.047])+np.array([0.5,0.5,0.1667])\n",
    "Ionpos_Methanediol_ppp=Ionpos_Methanediol_pp+np.array([0,0,Dis-0.047  ])+np.array([0.5,0.5,0.1667])\n",
    "Ionpos_Formic_acid_ppp=Ionpos_Formic_acid_pp+np.array([0,0,Dis ])+np.array([0.5,0.5,1.4*0.1667])\n",
    "Ionpos_CO2_ppp=Ionpos_CO2_pp+np.array([0,0,Dis ])+np.array([0.5,0.5,1.4*0.1667])"
   ]
  },
  {
   "cell_type": "code",
   "execution_count": 31,
   "metadata": {},
   "outputs": [
    {
     "name": "stdout",
     "output_type": "stream",
     "text": [
      "ion O 0.500 0.314 0.273  1\n",
      "\n",
      "ion C 0.500 0.500 0.246  1\n",
      "\n",
      "ion H 0.500 0.679 0.266  1\n",
      "\n",
      "ion H 0.500 0.500 0.199  1\n",
      "\n",
      "__________________________\n",
      "ion O 0.740 0.480 0.266  1\n",
      "\n",
      "ion O 0.401 0.720 0.266  1\n",
      "\n",
      "ion C 0.500 0.500 0.245  1\n",
      "\n",
      "ion H 0.393 0.348 0.260  1\n",
      "\n",
      "ion H 0.500 0.500 0.199  1\n",
      "\n",
      "ion H 0.801 0.327 0.251  1\n",
      "\n",
      "ion H 0.236 0.726 0.251  1\n",
      "\n",
      "__________________________\n",
      "ion H 0.611 0.664 0.312  1\n",
      "ion C 0.500 0.500 0.312  1\n",
      "ion O 0.558 0.289 0.312  1\n",
      "ion O 0.263 0.549 0.312  1\n",
      "ion H 0.168 0.405 0.312  1\n",
      "__________________________\n",
      "ion C 0.500 0.500 0.312  1\n",
      "ion O 0.709 0.500 0.312  1\n",
      "ion O 0.291 0.500 0.312  1\n"
     ]
    }
   ],
   "source": [
    "for i in range(len(Ionpos_Formaldehyde_ppp)):\n",
    "    print('ion '+ions_Formaldehyde[i], end=' ' )\n",
    "    for j in range(len(Ionpos_Formaldehyde_ppp[i])):\n",
    "        print(\"%.3f\" % Ionpos_Formaldehyde_ppp[i][j], end = ' ')\n",
    "    print(' 1\\n')\n",
    "print('__________________________')\n",
    "for i in range(len(Ionpos_Methanediol_ppp)):\n",
    "    print('ion '+ions_Methanediol[i], end=' ' )\n",
    "    for j in range(len(Ionpos_Methanediol_ppp[i])):\n",
    "        print(\"%.3f\" % Ionpos_Methanediol_ppp[i][j], end = ' ')\n",
    "    print(' 1\\n')\n",
    "print('__________________________')\n",
    "for i in range(len(Ionpos_Formic_acid_ppp)):\n",
    "    print('ion '+ions_Formic_acid[i], end=' ' )\n",
    "    for j in range(len(Ionpos_Formic_acid_ppp[i])):\n",
    "        print(\"%.3f\" % Ionpos_Formic_acid_ppp[i][j], end = ' ')\n",
    "    print(' 1')\n",
    "print('__________________________')\n",
    "for i in range(len(Ionpos_CO2_ppp)):\n",
    "    print('ion '+ions_CO2[i], end=' ' )\n",
    "    for j in range(len(Ionpos_CO2_ppp[i])):\n",
    "        print(\"%.3f\" % Ionpos_CO2_ppp[i][j], end = ' ')\n",
    "    print(' 1') "
   ]
  },
  {
   "cell_type": "code",
   "execution_count": null,
   "metadata": {},
   "outputs": [],
   "source": []
  },
  {
   "cell_type": "code",
   "execution_count": null,
   "metadata": {},
   "outputs": [],
   "source": []
  },
  {
   "cell_type": "code",
   "execution_count": null,
   "metadata": {},
   "outputs": [],
   "source": []
  },
  {
   "cell_type": "code",
   "execution_count": null,
   "metadata": {},
   "outputs": [],
   "source": []
  },
  {
   "cell_type": "code",
   "execution_count": null,
   "metadata": {},
   "outputs": [],
   "source": []
  },
  {
   "cell_type": "code",
   "execution_count": null,
   "metadata": {},
   "outputs": [],
   "source": []
  },
  {
   "cell_type": "code",
   "execution_count": null,
   "metadata": {},
   "outputs": [],
   "source": []
  },
  {
   "cell_type": "code",
   "execution_count": null,
   "metadata": {},
   "outputs": [],
   "source": []
  }
 ],
 "metadata": {
  "kernelspec": {
   "display_name": "Python 3",
   "language": "python",
   "name": "python3"
  },
  "language_info": {
   "codemirror_mode": {
    "name": "ipython",
    "version": 3
   },
   "file_extension": ".py",
   "mimetype": "text/x-python",
   "name": "python",
   "nbconvert_exporter": "python",
   "pygments_lexer": "ipython3",
   "version": "3.7.0"
  }
 },
 "nbformat": 4,
 "nbformat_minor": 2
}
